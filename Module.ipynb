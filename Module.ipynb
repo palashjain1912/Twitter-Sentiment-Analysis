{
 "cells": [
  {
   "cell_type": "code",
   "execution_count": 1,
   "metadata": {},
   "outputs": [
    {
     "name": "stdout",
     "output_type": "stream",
     "text": [
      "10664\n"
     ]
    },
    {
     "name": "stderr",
     "output_type": "stream",
     "text": [
      "C:\\Users\\palas\\anaconda3\\lib\\site-packages\\sklearn\\base.py:318: UserWarning: Trying to unpickle estimator MultinomialNB from version 0.21.3 when using version 0.22.1. This might lead to breaking code or invalid results. Use at your own risk.\n",
      "  UserWarning)\n",
      "C:\\Users\\palas\\anaconda3\\lib\\site-packages\\sklearn\\utils\\deprecation.py:144: FutureWarning: The sklearn.preprocessing.label module is  deprecated in version 0.22 and will be removed in version 0.24. The corresponding classes / functions should instead be imported from sklearn.preprocessing. Anything that cannot be imported from sklearn.preprocessing is now part of the private API.\n",
      "  warnings.warn(message, FutureWarning)\n",
      "C:\\Users\\palas\\anaconda3\\lib\\site-packages\\sklearn\\base.py:318: UserWarning: Trying to unpickle estimator LabelEncoder from version 0.21.3 when using version 0.22.1. This might lead to breaking code or invalid results. Use at your own risk.\n",
      "  UserWarning)\n",
      "C:\\Users\\palas\\anaconda3\\lib\\site-packages\\sklearn\\utils\\deprecation.py:144: FutureWarning: The sklearn.feature_extraction.dict_vectorizer module is  deprecated in version 0.22 and will be removed in version 0.24. The corresponding classes / functions should instead be imported from sklearn.feature_extraction. Anything that cannot be imported from sklearn.feature_extraction is now part of the private API.\n",
      "  warnings.warn(message, FutureWarning)\n",
      "C:\\Users\\palas\\anaconda3\\lib\\site-packages\\sklearn\\base.py:318: UserWarning: Trying to unpickle estimator DictVectorizer from version 0.21.3 when using version 0.22.1. This might lead to breaking code or invalid results. Use at your own risk.\n",
      "  UserWarning)\n",
      "C:\\Users\\palas\\anaconda3\\lib\\site-packages\\sklearn\\base.py:318: UserWarning: Trying to unpickle estimator BernoulliNB from version 0.21.3 when using version 0.22.1. This might lead to breaking code or invalid results. Use at your own risk.\n",
      "  UserWarning)\n",
      "C:\\Users\\palas\\anaconda3\\lib\\site-packages\\sklearn\\utils\\deprecation.py:144: FutureWarning: The sklearn.linear_model.logistic module is  deprecated in version 0.22 and will be removed in version 0.24. The corresponding classes / functions should instead be imported from sklearn.linear_model. Anything that cannot be imported from sklearn.linear_model is now part of the private API.\n",
      "  warnings.warn(message, FutureWarning)\n",
      "C:\\Users\\palas\\anaconda3\\lib\\site-packages\\sklearn\\base.py:318: UserWarning: Trying to unpickle estimator LogisticRegression from version 0.21.3 when using version 0.22.1. This might lead to breaking code or invalid results. Use at your own risk.\n",
      "  UserWarning)\n",
      "C:\\Users\\palas\\anaconda3\\lib\\site-packages\\sklearn\\utils\\deprecation.py:144: FutureWarning: The sklearn.svm.classes module is  deprecated in version 0.22 and will be removed in version 0.24. The corresponding classes / functions should instead be imported from sklearn.svm. Anything that cannot be imported from sklearn.svm is now part of the private API.\n",
      "  warnings.warn(message, FutureWarning)\n",
      "C:\\Users\\palas\\anaconda3\\lib\\site-packages\\sklearn\\base.py:318: UserWarning: Trying to unpickle estimator LinearSVC from version 0.21.3 when using version 0.22.1. This might lead to breaking code or invalid results. Use at your own risk.\n",
      "  UserWarning)\n",
      "C:\\Users\\palas\\anaconda3\\lib\\site-packages\\sklearn\\utils\\deprecation.py:144: FutureWarning: The sklearn.linear_model.stochastic_gradient module is  deprecated in version 0.22 and will be removed in version 0.24. The corresponding classes / functions should instead be imported from sklearn.linear_model. Anything that cannot be imported from sklearn.linear_model is now part of the private API.\n",
      "  warnings.warn(message, FutureWarning)\n",
      "C:\\Users\\palas\\anaconda3\\lib\\site-packages\\sklearn\\utils\\deprecation.py:144: FutureWarning: The sklearn.linear_model.sgd_fast module is  deprecated in version 0.22 and will be removed in version 0.24. The corresponding classes / functions should instead be imported from sklearn.linear_model. Anything that cannot be imported from sklearn.linear_model is now part of the private API.\n",
      "  warnings.warn(message, FutureWarning)\n",
      "C:\\Users\\palas\\anaconda3\\lib\\site-packages\\sklearn\\base.py:318: UserWarning: Trying to unpickle estimator SGDClassifier from version 0.21.3 when using version 0.22.1. This might lead to breaking code or invalid results. Use at your own risk.\n",
      "  UserWarning)\n"
     ]
    },
    {
     "name": "stdout",
     "output_type": "stream",
     "text": [
      "('pos', 1.0)\n",
      "('neg', 1.0)\n"
     ]
    }
   ],
   "source": [
    "import sentiment_mod as s\n",
    "\n",
    "print(s.sentiment(\"This movie was awesome! The acting was great, plot was wonderful, and there were pythons...so yea!\"))\n",
    "print(s.sentiment(\"This movie was utter junk. There were absolutely 0 pythons. I don't see what the point was at all. Horrible movie, 0/10\"))\n"
   ]
  },
  {
   "cell_type": "code",
   "execution_count": null,
   "metadata": {},
   "outputs": [
    {
     "name": "stdout",
     "output_type": "stream",
     "text": [
      "RT @erinhale: Taiwan did not beat coronavirus because of Confucianism. Full stop. They are doing well because their Vice President is an ep… pos 0.6\n",
      "RT @SangitaSri: IIT-AIIMS Team Builds World's 1st Machine That Kills #Coronavirus In Air With Ionised Water.\n",
      "https://t.co/ysd42wDwxh neg 0.8\n",
      "RT @Wimbledon: It is with great regret that the AELTC has today decided that The Championships 2020 will be cancelled due to public health… pos 0.8\n",
      "RT @jbenmenachem: Cuomo is trying to roll back NY's bail reform law &amp; force tens of thousands of people to cycle through NY jails. That cou… neg 1.0\n",
      "RT @khajochi: ข่าวจาก MIT Technology Review บอกว่า วัคซีนสำหรับ #โควิด19 อาจจะต้องใช้เวลานานถึง 18 เดือนข้างหน้า หรือกลางปี 2021 เลยทีเดียว… neg 0.8\n",
      "RT @sewellchan: Praying for the people of Ecuador.  https://t.co/KWmvTTodUg neg 0.8\n",
      "RT @Arturo_Parisi: Coronavirus, studio dell’Istituto Cattaneo: «i morti sono almeno il doppio» - Il Sole 24 ORE https://t.co/JRbONYRpN1 neg 1.0\n",
      "RT @MelissaFleming: Help developing countries!\n",
      " \n",
      "\"Otherwise we face the nightmare of the disease spreading like wildfire with millions of d… neg 1.0\n",
      "RT @Cromwell606: As another 563 people in the UK lose their lives to #Coronavirus, here's Boris Johnson explaining 3 weeks ago why we shoul… neg 0.8\n",
      "RT @forwardarc: The U.S. needs to know what went wrong.\n",
      "When America has recovered from the coronavirus crisis &amp; people are back to work, R… neg 1.0\n",
      "RT @JLozanoA: Oídos sordos, mi querido Salo. neg 0.8\n",
      "That the coronavirus pandemic ends before Easter neg 0.8\n",
      "RT @_juliet_wanjiru: Ivy Brenda was my classmate! 😅 neg 0.8\n",
      "RT @WarrenPlatts: \"What's deemed an 'acceptable' meat—and the manner by which to obtain it—is nothing more than the result of different cul… pos 1.0\n",
      "RT @mister_blank: now that coronavirus is the only thing to worry about i'm gonna touch so much fucken raw chicken. neg 1.0\n",
      "RT @OPR_Noticias: #Ecuador | #Guayaquil, creyentes asustados forman cadenas de oraciones en las calles. El país atraviesa una crisis sanita… pos 0.8\n",
      "Une petite pipe c est tjrs bon... pos 0.6\n",
      "RT @NorbertElekes: NEW: Chile reports 293 new cases of coronavirus and 4 new deaths.\n",
      "\n",
      "A total of 3,031 cases and 16 deaths. neg 1.0\n",
      "RT @Teleuruguaya: Comenzó una baja en el interés por los noticieros.\n",
      "\n",
      "El coronavirus empezó a aburrir en la @Teleuruguaya y hubo un leve de… pos 0.6\n",
      "RT @XSalaimartin: Suposo que ara sortiran l'@AdaColau, el @J_Zaragoza_ i els alcaldes socialistes que ahir van signar el pamflet per explic… neg 1.0\n",
      "RT @ryanstruyk: Reported US coronavirus cases:\n",
      "\n",
      "0 to 100,000 cases: 66 days\n",
      "\n",
      "100,000 to 200,000 cases: 5 days neg 0.8\n",
      "RT @ZeeNews: .@ajaydevgn ने पहले दिए 1 करोड़, मजदूरों की दयनीय हालत देख पसीजा दिल, फिर किया इतना दान\n",
      "\n",
      "#Corona  #ZeeJankariOnCorona #CoronaU… neg 0.8\n",
      "RT @KGWNews: Residents are telling on neighbors, businesses who break quarantine https://t.co/FyluT0IiSe neg 0.8\n",
      "RT @Tifferella__: I trust her neg 0.8\n",
      "RT @Mikel_Jollett: I don’t think people have fully digested this shocking fact:\n",
      "\n",
      "Coronavirus was discovered in the U.S. on the SAME DAY it… pos 1.0\n",
      "RT @swin24: \"In the past few days, Trump has also told multiple officials that Xi has assured him that the Chinese government wouldn’t lie… pos 1.0\n",
      "RT @SvobodaRadio: Госдепартамент: США закупили медицинское оборудование в России. Оборудование, доставленное в среду в Нью-Йорк российским… neg 0.8\n",
      "RT @BernardKeane: Until recently, cruise ship operators were regarded by Home Affairs as \"trusted operators\" for purposes of border protect… neg 0.8\n",
      "RT @BeachMilk: For some of us, working from home is proving to be a challenge!\n",
      "\n",
      "#coronavirus #lockusdown https://t.co/Qtjlnj7U6F pos 1.0\n",
      "RT @Fisyasia: Nih kronologi dari awal biar kalian tau kerjaan Pemerintah Pusat dari awal ngapain aja dalam menangani Wuhan Coronavirus:\n",
      "\n",
      "[C… neg 1.0\n"
     ]
    }
   ],
   "source": [
    "from tweepy import Stream\n",
    "from tweepy import OAuthHandler\n",
    "from tweepy.streaming import StreamListener\n",
    "import json\n",
    "import time\n",
    "\n",
    "#consumer key, consumer secret, access token, access secret.\n",
    "ckey=\"r9Dvg7lmiWmM8VhNi3Dtu13En\"\n",
    "csecret=\"l3ClhEwNDTdk2r8MmT1LXW4Xc2dcDSsrd4E1TFucWfKCKh0ulE\"\n",
    "atoken=\"1244464459634159618-J3D7vbAOIJCN2MeG6kpUZMjrkAcN5D\"\n",
    "asecret=\"vLPN1XGgttH9ebAI9dpBqs4pwO0M3ZcktvTvIVfr1HfSW\"\n",
    "\n",
    "class listener(StreamListener):\n",
    "\n",
    "    def on_data(self, data):\n",
    "\n",
    "        all_data = json.loads(data)\n",
    "\n",
    "        tweet = all_data[\"text\"]\n",
    "        sentiment_value, confidence = s.sentiment(tweet)\n",
    "        print(tweet, sentiment_value, confidence)\n",
    "        time.sleep(1)\n",
    "        if confidence*100 >= 80:\n",
    "            output = open(\"twitter-out.txt\",\"a\")\n",
    "            output.write(sentiment_value)\n",
    "            output.write('\\n')\n",
    "            output.close()\n",
    "\n",
    "        return True\n",
    "\n",
    "    def on_error(self, status):\n",
    "        pass\n",
    "\n",
    "auth = OAuthHandler(ckey, csecret)\n",
    "auth.set_access_token(atoken, asecret)\n",
    "\n",
    "twitterStream = Stream(auth, listener())\n",
    "twitterStream.filter(track=[\"coronavirus\"])"
   ]
  },
  {
   "cell_type": "code",
   "execution_count": 8,
   "metadata": {},
   "outputs": [],
   "source": [
    "with open(\"twitter-out.txt\",'wb'):\n",
    "    pass\n",
    "    "
   ]
  },
  {
   "cell_type": "code",
   "execution_count": null,
   "metadata": {},
   "outputs": [],
   "source": []
  }
 ],
 "metadata": {
  "celltoolbar": "Raw Cell Format",
  "kernelspec": {
   "display_name": "Python 3",
   "language": "python",
   "name": "python3"
  },
  "language_info": {
   "codemirror_mode": {
    "name": "ipython",
    "version": 3
   },
   "file_extension": ".py",
   "mimetype": "text/x-python",
   "name": "python",
   "nbconvert_exporter": "python",
   "pygments_lexer": "ipython3",
   "version": "3.7.6"
  }
 },
 "nbformat": 4,
 "nbformat_minor": 2
}
